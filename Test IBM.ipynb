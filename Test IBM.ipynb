{
 "cells": [
  {
   "cell_type": "markdown",
   "id": "66edd28d",
   "metadata": {},
   "source": [
    "<h1> My Jupyter Notebook on IBM Watson Studio </h1>"
   ]
  },
  {
   "cell_type": "markdown",
   "id": "7ac2f65e",
   "metadata": {},
   "source": [
    "***Name: Nguyen Thanh Dat***\n",
    "\n",
    "My desire is knownledge , it is everything"
   ]
  },
  {
   "cell_type": "markdown",
   "id": "cdee7bf0",
   "metadata": {},
   "source": [
    "<h3> A short code to represent list comprehension, simple to say is: \"x go from 1 to 4\" (actually it will alway stop before the end number)"
   ]
  },
  {
   "cell_type": "code",
   "execution_count": null,
   "id": "b1afe1f2",
   "metadata": {},
   "outputs": [
    {
     "name": "stdout",
     "output_type": "stream",
     "text": [
      "[1, 2, 3]\n"
     ]
    }
   ],
   "source": [
    "a = [x for x in range(1,4)]\n",
    "print(a)"
   ]
  },
  {
   "cell_type": "markdown",
   "id": "9b8ca665",
   "metadata": {},
   "source": [
    "- A horizontal rule is used to provide a visual break and divide content.\n",
    "- hyperlinks is an electronic link providing direct access from one distinctively marked place in a hypertext or hypermedia document to another in the same or a different document\n",
    "- A table: just a table you see like this"
   ]
  },
  {
   "cell_type": "code",
   "execution_count": null,
   "id": "2341f315",
   "metadata": {},
   "outputs": [
    {
     "data": {
      "text/html": [
       "<div>\n",
       "<style scoped>\n",
       "    .dataframe tbody tr th:only-of-type {\n",
       "        vertical-align: middle;\n",
       "    }\n",
       "\n",
       "    .dataframe tbody tr th {\n",
       "        vertical-align: top;\n",
       "    }\n",
       "\n",
       "    .dataframe thead th {\n",
       "        text-align: right;\n",
       "    }\n",
       "</style>\n",
       "<table border=\"1\" class=\"dataframe\">\n",
       "  <thead>\n",
       "    <tr style=\"text-align: right;\">\n",
       "      <th></th>\n",
       "      <th>hello</th>\n",
       "      <th>sorry</th>\n",
       "    </tr>\n",
       "  </thead>\n",
       "  <tbody>\n",
       "    <tr>\n",
       "      <th>0</th>\n",
       "      <td>I</td>\n",
       "      <td>for</td>\n",
       "    </tr>\n",
       "    <tr>\n",
       "      <th>1</th>\n",
       "      <td>am</td>\n",
       "      <td>my</td>\n",
       "    </tr>\n",
       "    <tr>\n",
       "      <th>2</th>\n",
       "      <td>a</td>\n",
       "      <td>stupid</td>\n",
       "    </tr>\n",
       "    <tr>\n",
       "      <th>3</th>\n",
       "      <td>special</td>\n",
       "      <td>english</td>\n",
       "    </tr>\n",
       "    <tr>\n",
       "      <th>4</th>\n",
       "      <td>person</td>\n",
       "      <td>XD</td>\n",
       "    </tr>\n",
       "  </tbody>\n",
       "</table>\n",
       "</div>"
      ],
      "text/plain": [
       "     hello    sorry\n",
       "0        I      for\n",
       "1       am       my\n",
       "2        a   stupid\n",
       "3  special  english\n",
       "4   person       XD"
      ]
     },
     "metadata": {},
     "output_type": "display_data"
    }
   ],
   "source": [
    "import pandas as pd\n",
    "\n",
    "df = pd.DataFrame({'hello': ['I', 'am', 'a', 'special', 'person'],\n",
    "                  'sorry':['for', 'my', 'stupid', 'english', 'XD']})\n",
    "df"
   ]
  },
  {
   "cell_type": "code",
   "execution_count": null,
   "id": "35fbfd09",
   "metadata": {},
   "outputs": [],
   "source": []
  }
 ],
 "metadata": {
  "kernelspec": {
   "display_name": "Python 3",
   "language": "python",
   "name": "python3"
  },
  "language_info": {
   "name": "python",
   "version": "3.11.0 (main, Oct 24 2022, 18:26:48) [MSC v.1933 64 bit (AMD64)]"
  },
  "orig_nbformat": 4,
  "vscode": {
   "interpreter": {
    "hash": "c261aea317cc0286b3b3261fbba9abdec21eaa57589985bb7a274bf54d6cc0a7"
   }
  }
 },
 "nbformat": 4,
 "nbformat_minor": 2
}
